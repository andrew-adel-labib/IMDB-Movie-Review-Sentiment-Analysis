{
 "cells": [
  {
   "cell_type": "code",
   "execution_count": 1,
   "id": "710606b0",
   "metadata": {},
   "outputs": [],
   "source": [
    "import numpy as np\n",
    "import tensorflow as tf\n",
    "from tensorflow.keras.datasets import imdb\n",
    "from tensorflow.keras.preprocessing import sequence\n",
    "from tensorflow.keras.models import load_model"
   ]
  },
  {
   "cell_type": "code",
   "execution_count": 2,
   "id": "c5a2ec4d",
   "metadata": {},
   "outputs": [],
   "source": [
    "word_index = imdb.get_word_index()\n",
    "reverse_word_index = {value : key for key, value in word_index.items()}"
   ]
  },
  {
   "cell_type": "code",
   "execution_count": 3,
   "id": "5bd888b6",
   "metadata": {},
   "outputs": [
    {
     "name": "stderr",
     "output_type": "stream",
     "text": [
      "WARNING:absl:Compiled the loaded model, but the compiled metrics have yet to be built. `model.compile_metrics` will be empty until you train or evaluate the model.\n"
     ]
    },
    {
     "data": {
      "text/html": [
       "<pre style=\"white-space:pre;overflow-x:auto;line-height:normal;font-family:Menlo,'DejaVu Sans Mono',consolas,'Courier New',monospace\"><span style=\"font-weight: bold\">Model: \"sequential\"</span>\n",
       "</pre>\n"
      ],
      "text/plain": [
       "\u001b[1mModel: \"sequential\"\u001b[0m\n"
      ]
     },
     "metadata": {},
     "output_type": "display_data"
    },
    {
     "data": {
      "text/html": [
       "<pre style=\"white-space:pre;overflow-x:auto;line-height:normal;font-family:Menlo,'DejaVu Sans Mono',consolas,'Courier New',monospace\">┏━━━━━━━━━━━━━━━━━━━━━━━━━━━━━━━━━┳━━━━━━━━━━━━━━━━━━━━━━━━┳━━━━━━━━━━━━━━━┓\n",
       "┃<span style=\"font-weight: bold\"> Layer (type)                    </span>┃<span style=\"font-weight: bold\"> Output Shape           </span>┃<span style=\"font-weight: bold\">       Param # </span>┃\n",
       "┡━━━━━━━━━━━━━━━━━━━━━━━━━━━━━━━━━╇━━━━━━━━━━━━━━━━━━━━━━━━╇━━━━━━━━━━━━━━━┩\n",
       "│ embedding (<span style=\"color: #0087ff; text-decoration-color: #0087ff\">Embedding</span>)           │ (<span style=\"color: #00d7ff; text-decoration-color: #00d7ff\">None</span>, <span style=\"color: #00af00; text-decoration-color: #00af00\">500</span>, <span style=\"color: #00af00; text-decoration-color: #00af00\">128</span>)       │     <span style=\"color: #00af00; text-decoration-color: #00af00\">1,280,000</span> │\n",
       "├─────────────────────────────────┼────────────────────────┼───────────────┤\n",
       "│ simple_rnn (<span style=\"color: #0087ff; text-decoration-color: #0087ff\">SimpleRNN</span>)          │ (<span style=\"color: #00d7ff; text-decoration-color: #00d7ff\">None</span>, <span style=\"color: #00af00; text-decoration-color: #00af00\">128</span>)            │        <span style=\"color: #00af00; text-decoration-color: #00af00\">32,896</span> │\n",
       "├─────────────────────────────────┼────────────────────────┼───────────────┤\n",
       "│ dense (<span style=\"color: #0087ff; text-decoration-color: #0087ff\">Dense</span>)                   │ (<span style=\"color: #00d7ff; text-decoration-color: #00d7ff\">None</span>, <span style=\"color: #00af00; text-decoration-color: #00af00\">1</span>)              │           <span style=\"color: #00af00; text-decoration-color: #00af00\">129</span> │\n",
       "└─────────────────────────────────┴────────────────────────┴───────────────┘\n",
       "</pre>\n"
      ],
      "text/plain": [
       "┏━━━━━━━━━━━━━━━━━━━━━━━━━━━━━━━━━┳━━━━━━━━━━━━━━━━━━━━━━━━┳━━━━━━━━━━━━━━━┓\n",
       "┃\u001b[1m \u001b[0m\u001b[1mLayer (type)                   \u001b[0m\u001b[1m \u001b[0m┃\u001b[1m \u001b[0m\u001b[1mOutput Shape          \u001b[0m\u001b[1m \u001b[0m┃\u001b[1m \u001b[0m\u001b[1m      Param #\u001b[0m\u001b[1m \u001b[0m┃\n",
       "┡━━━━━━━━━━━━━━━━━━━━━━━━━━━━━━━━━╇━━━━━━━━━━━━━━━━━━━━━━━━╇━━━━━━━━━━━━━━━┩\n",
       "│ embedding (\u001b[38;5;33mEmbedding\u001b[0m)           │ (\u001b[38;5;45mNone\u001b[0m, \u001b[38;5;34m500\u001b[0m, \u001b[38;5;34m128\u001b[0m)       │     \u001b[38;5;34m1,280,000\u001b[0m │\n",
       "├─────────────────────────────────┼────────────────────────┼───────────────┤\n",
       "│ simple_rnn (\u001b[38;5;33mSimpleRNN\u001b[0m)          │ (\u001b[38;5;45mNone\u001b[0m, \u001b[38;5;34m128\u001b[0m)            │        \u001b[38;5;34m32,896\u001b[0m │\n",
       "├─────────────────────────────────┼────────────────────────┼───────────────┤\n",
       "│ dense (\u001b[38;5;33mDense\u001b[0m)                   │ (\u001b[38;5;45mNone\u001b[0m, \u001b[38;5;34m1\u001b[0m)              │           \u001b[38;5;34m129\u001b[0m │\n",
       "└─────────────────────────────────┴────────────────────────┴───────────────┘\n"
      ]
     },
     "metadata": {},
     "output_type": "display_data"
    },
    {
     "data": {
      "text/html": [
       "<pre style=\"white-space:pre;overflow-x:auto;line-height:normal;font-family:Menlo,'DejaVu Sans Mono',consolas,'Courier New',monospace\"><span style=\"font-weight: bold\"> Total params: </span><span style=\"color: #00af00; text-decoration-color: #00af00\">1,313,027</span> (5.01 MB)\n",
       "</pre>\n"
      ],
      "text/plain": [
       "\u001b[1m Total params: \u001b[0m\u001b[38;5;34m1,313,027\u001b[0m (5.01 MB)\n"
      ]
     },
     "metadata": {},
     "output_type": "display_data"
    },
    {
     "data": {
      "text/html": [
       "<pre style=\"white-space:pre;overflow-x:auto;line-height:normal;font-family:Menlo,'DejaVu Sans Mono',consolas,'Courier New',monospace\"><span style=\"font-weight: bold\"> Trainable params: </span><span style=\"color: #00af00; text-decoration-color: #00af00\">1,313,025</span> (5.01 MB)\n",
       "</pre>\n"
      ],
      "text/plain": [
       "\u001b[1m Trainable params: \u001b[0m\u001b[38;5;34m1,313,025\u001b[0m (5.01 MB)\n"
      ]
     },
     "metadata": {},
     "output_type": "display_data"
    },
    {
     "data": {
      "text/html": [
       "<pre style=\"white-space:pre;overflow-x:auto;line-height:normal;font-family:Menlo,'DejaVu Sans Mono',consolas,'Courier New',monospace\"><span style=\"font-weight: bold\"> Non-trainable params: </span><span style=\"color: #00af00; text-decoration-color: #00af00\">0</span> (0.00 B)\n",
       "</pre>\n"
      ],
      "text/plain": [
       "\u001b[1m Non-trainable params: \u001b[0m\u001b[38;5;34m0\u001b[0m (0.00 B)\n"
      ]
     },
     "metadata": {},
     "output_type": "display_data"
    },
    {
     "data": {
      "text/html": [
       "<pre style=\"white-space:pre;overflow-x:auto;line-height:normal;font-family:Menlo,'DejaVu Sans Mono',consolas,'Courier New',monospace\"><span style=\"font-weight: bold\"> Optimizer params: </span><span style=\"color: #00af00; text-decoration-color: #00af00\">2</span> (12.00 B)\n",
       "</pre>\n"
      ],
      "text/plain": [
       "\u001b[1m Optimizer params: \u001b[0m\u001b[38;5;34m2\u001b[0m (12.00 B)\n"
      ]
     },
     "metadata": {},
     "output_type": "display_data"
    }
   ],
   "source": [
    "model = load_model(\"simple_rnn_imdb.h5\")\n",
    "model.summary()"
   ]
  },
  {
   "cell_type": "code",
   "execution_count": 4,
   "id": "27777b45",
   "metadata": {},
   "outputs": [
    {
     "data": {
      "text/plain": [
       "[array([[-0.00730308, -0.06011703,  0.09707695, ..., -0.00434682,\n",
       "          0.07735274,  0.04506992],\n",
       "        [-0.04523709, -0.01997869,  0.05184339, ..., -0.05182558,\n",
       "          0.02522973,  0.04205748],\n",
       "        [ 0.05037975,  0.02753107,  0.02034243, ..., -0.04321232,\n",
       "         -0.06870517,  0.02895337],\n",
       "        ...,\n",
       "        [ 0.06073055, -0.05742164,  0.05397753, ...,  0.04236727,\n",
       "         -0.02182585,  0.02587627],\n",
       "        [ 0.10172217,  0.17586362,  0.06920353, ...,  0.15257952,\n",
       "          0.17539555,  0.12620084],\n",
       "        [-0.25771832,  0.12655386, -0.19563948, ..., -0.09480075,\n",
       "         -0.29096743,  0.31236672]], dtype=float32),\n",
       " array([[-0.00657674, -0.00963028,  0.01983915, ...,  0.05344001,\n",
       "         -0.09978873, -0.06509043],\n",
       "        [-0.01439787, -0.12124136, -0.11147463, ...,  0.15215066,\n",
       "         -0.10853587, -0.05587833],\n",
       "        [ 0.15645097, -0.06259353,  0.08102246, ...,  0.00094895,\n",
       "         -0.09464188, -0.02487168],\n",
       "        ...,\n",
       "        [-0.09836706, -0.02837518, -0.02742389, ..., -0.09198167,\n",
       "          0.12974648,  0.13401678],\n",
       "        [-0.11997524,  0.08126355, -0.01309906, ..., -0.1066626 ,\n",
       "          0.06873209, -0.06782298],\n",
       "        [ 0.04186416, -0.08667463,  0.06915092, ...,  0.03800266,\n",
       "         -0.04270152, -0.15012087]], dtype=float32),\n",
       " array([[-0.09678729,  0.20365566,  0.01210667, ...,  0.06442604,\n",
       "         -0.11153912, -0.05239662],\n",
       "        [-0.1283007 , -0.07115377, -0.10567432, ..., -0.03980563,\n",
       "          0.00039844, -0.1157979 ],\n",
       "        [ 0.09456857, -0.07164249, -0.14426853, ..., -0.0450297 ,\n",
       "          0.00103557,  0.15767391],\n",
       "        ...,\n",
       "        [ 0.00228952,  0.01765887,  0.00872749, ...,  0.09602723,\n",
       "          0.14466597, -0.01153928],\n",
       "        [-0.17557845,  0.01180642,  0.0642587 , ...,  0.05725394,\n",
       "          0.01745519,  0.11299426],\n",
       "        [-0.09883343,  0.0481161 , -0.0843472 , ...,  0.02771722,\n",
       "          0.14175268,  0.10028897]], dtype=float32),\n",
       " array([-0.01551303,  0.00805647, -0.01388564, -0.00734653, -0.0083515 ,\n",
       "         0.0214685 ,  0.00772247, -0.016258  , -0.01435011, -0.0102255 ,\n",
       "         0.02242225,  0.02212694,  0.01385114,  0.00626032,  0.00783923,\n",
       "        -0.00080143, -0.00177069, -0.00223622,  0.02176215, -0.0089235 ,\n",
       "         0.01428171,  0.02677024,  0.01708266,  0.00334816, -0.00874956,\n",
       "        -0.0299924 , -0.00834775,  0.00457945,  0.01121866,  0.00261559,\n",
       "        -0.02028021,  0.00666472,  0.01076888,  0.00938368, -0.01354688,\n",
       "         0.00456299,  0.00585771, -0.00405142, -0.02005162,  0.01875458,\n",
       "         0.01474149, -0.0098749 ,  0.00036961,  0.01370553,  0.02083502,\n",
       "        -0.01950935,  0.01380281, -0.01770553, -0.01687652,  0.00024353,\n",
       "        -0.00705066, -0.00487191,  0.00692803, -0.00565515, -0.0082129 ,\n",
       "        -0.01590056, -0.018162  ,  0.01913649,  0.01708616, -0.02622781,\n",
       "        -0.00398784, -0.01447329,  0.01436979,  0.02172487, -0.01405878,\n",
       "         0.01606033, -0.01971685, -0.02342815, -0.01265426,  0.00834615,\n",
       "        -0.02125529, -0.00627791, -0.00737987, -0.00992272, -0.0064447 ,\n",
       "         0.00695422, -0.00530029,  0.00981727, -0.00909699,  0.01057305,\n",
       "         0.01819117, -0.00030988,  0.00247006,  0.01126602, -0.02568331,\n",
       "        -0.01413227, -0.00072863, -0.01484428,  0.00363153,  0.01439019,\n",
       "         0.00408775, -0.00062819,  0.00137269, -0.00213084, -0.01008301,\n",
       "         0.01173526,  0.00113274,  0.00067268,  0.00387825, -0.03063709,\n",
       "        -0.00940469,  0.01306973, -0.00863895,  0.01482674,  0.00909485,\n",
       "         0.01305796, -0.01611648,  0.00218758,  0.02061513, -0.00600561,\n",
       "         0.01315992, -0.01583908, -0.01259792, -0.00184496, -0.00188606,\n",
       "        -0.02260647, -0.01126328,  0.02798445, -0.01841789,  0.00813695,\n",
       "         0.02077431, -0.0050536 , -0.04146947, -0.01373712,  0.004019  ,\n",
       "         0.01529583,  0.01393148, -0.02109138], dtype=float32),\n",
       " array([[-6.21705770e-01],\n",
       "        [ 1.03145130e-01],\n",
       "        [ 1.35865256e-01],\n",
       "        [ 1.53207734e-01],\n",
       "        [-8.66115153e-01],\n",
       "        [-1.04428925e-01],\n",
       "        [ 9.51111838e-02],\n",
       "        [-1.77795768e+00],\n",
       "        [-1.97904587e-01],\n",
       "        [ 6.96475208e-02],\n",
       "        [-5.19225709e-02],\n",
       "        [-1.74839702e-02],\n",
       "        [ 1.90775339e-02],\n",
       "        [ 1.60981670e-01],\n",
       "        [ 2.28168443e-01],\n",
       "        [-1.20222592e+00],\n",
       "        [ 1.90896437e-01],\n",
       "        [ 2.30328888e-01],\n",
       "        [ 1.77963018e-01],\n",
       "        [ 7.13564530e-02],\n",
       "        [-3.75919528e-02],\n",
       "        [ 2.53004372e-01],\n",
       "        [-5.60800731e-02],\n",
       "        [-1.47725612e-01],\n",
       "        [-1.39978006e-01],\n",
       "        [ 1.51017681e-01],\n",
       "        [ 5.16667590e-02],\n",
       "        [ 1.78285986e-01],\n",
       "        [ 1.64644092e-01],\n",
       "        [-1.81744978e-01],\n",
       "        [ 1.15238570e-01],\n",
       "        [-1.74488798e-02],\n",
       "        [-1.94155559e-01],\n",
       "        [-1.30451727e+00],\n",
       "        [-5.54613411e-01],\n",
       "        [-1.23820019e+00],\n",
       "        [-2.59841889e-01],\n",
       "        [ 2.35660076e-01],\n",
       "        [ 1.38122648e-01],\n",
       "        [-1.90825030e-01],\n",
       "        [-1.89008325e-01],\n",
       "        [-1.88076705e-01],\n",
       "        [-1.72712341e-01],\n",
       "        [-1.03229143e-01],\n",
       "        [ 1.82581320e-01],\n",
       "        [-7.08693191e-02],\n",
       "        [-5.01157157e-03],\n",
       "        [ 1.80606216e-01],\n",
       "        [-1.68389492e-02],\n",
       "        [-1.32531419e-01],\n",
       "        [ 7.47107491e-02],\n",
       "        [ 8.35719984e-03],\n",
       "        [ 8.07366446e-02],\n",
       "        [ 1.95100322e-01],\n",
       "        [-1.19361162e-01],\n",
       "        [ 1.50611281e-01],\n",
       "        [-6.89597800e-02],\n",
       "        [-1.36747405e-01],\n",
       "        [-1.40259206e-01],\n",
       "        [-1.72062784e-01],\n",
       "        [-1.42677113e-01],\n",
       "        [ 4.35790680e-02],\n",
       "        [-5.72795011e-02],\n",
       "        [ 1.57900751e-02],\n",
       "        [-1.59402299e+00],\n",
       "        [-1.25437915e-01],\n",
       "        [ 2.63876957e-03],\n",
       "        [-4.26751971e-01],\n",
       "        [ 1.30599409e-01],\n",
       "        [ 5.01961894e-02],\n",
       "        [-8.32777441e-01],\n",
       "        [-1.03953993e+00],\n",
       "        [-4.53701168e-02],\n",
       "        [-1.27950817e-01],\n",
       "        [-1.69175729e-01],\n",
       "        [ 1.72154486e-01],\n",
       "        [-1.52200258e+00],\n",
       "        [ 7.05782440e-04],\n",
       "        [-1.48175323e+00],\n",
       "        [-7.06759021e-02],\n",
       "        [ 5.11600524e-02],\n",
       "        [-1.44389793e-01],\n",
       "        [-1.41583472e-01],\n",
       "        [ 8.94827545e-02],\n",
       "        [-2.14316979e-01],\n",
       "        [-1.63929500e-02],\n",
       "        [-2.23579481e-01],\n",
       "        [ 1.89824969e-01],\n",
       "        [-1.67823676e-02],\n",
       "        [ 1.91064537e-01],\n",
       "        [-2.20879570e-01],\n",
       "        [-1.99283674e-01],\n",
       "        [ 2.03448534e-01],\n",
       "        [-1.75425723e-01],\n",
       "        [-9.70731303e-02],\n",
       "        [ 1.89079978e-02],\n",
       "        [ 2.15619095e-02],\n",
       "        [-1.17550448e-01],\n",
       "        [-1.97621420e-01],\n",
       "        [-9.70302165e-01],\n",
       "        [-1.00373030e+00],\n",
       "        [-7.47146845e-01],\n",
       "        [ 1.68313812e-02],\n",
       "        [ 1.48680672e-01],\n",
       "        [-3.48443985e-02],\n",
       "        [-2.84046841e+00],\n",
       "        [ 3.60733196e-02],\n",
       "        [-1.92772374e-01],\n",
       "        [-5.37729487e-02],\n",
       "        [-2.12664440e-01],\n",
       "        [ 8.36163238e-02],\n",
       "        [-1.19250149e-01],\n",
       "        [-1.45651191e-01],\n",
       "        [-1.19255590e+00],\n",
       "        [-6.06710166e-02],\n",
       "        [-1.54011905e-01],\n",
       "        [-5.85483313e-02],\n",
       "        [ 1.85664386e-01],\n",
       "        [-7.63133988e-02],\n",
       "        [-1.70057416e-02],\n",
       "        [ 1.86865017e-01],\n",
       "        [ 1.51187032e-02],\n",
       "        [-1.20368846e-01],\n",
       "        [-1.71081722e-01],\n",
       "        [-2.55457293e-02],\n",
       "        [ 1.93299741e-01],\n",
       "        [ 1.97929978e-01],\n",
       "        [-1.71340317e-01]], dtype=float32),\n",
       " array([-1.4147078], dtype=float32)]"
      ]
     },
     "execution_count": 4,
     "metadata": {},
     "output_type": "execute_result"
    }
   ],
   "source": [
    "model.get_weights()"
   ]
  },
  {
   "cell_type": "code",
   "execution_count": 5,
   "id": "b6a6f41d",
   "metadata": {},
   "outputs": [],
   "source": [
    "def decode_review(encoded_review):\n",
    "    return \" \".join([reverse_word_index.get(i-3, '?') for i in encoded_review])\n",
    "\n",
    "def preprocess_text(text):\n",
    "    words = text.lower().split()\n",
    "    encoded_review = [word_index.get(word, 2) + 3 for word in words]\n",
    "    padded_review = sequence.pad_sequences([encoded_review], maxlen=500)\n",
    "    return padded_review"
   ]
  },
  {
   "cell_type": "code",
   "execution_count": null,
   "id": "4b790964",
   "metadata": {},
   "outputs": [],
   "source": [
    "def predict_sentiment(review):\n",
    "    preprocessed_input = preprocess_text(review)\n",
    "    prediction = model.predict(preprocessed_input)\n",
    "    sentiment = \"Positive\" if prediction[0][0] > 0.5 else \"Negative\"\n",
    "    return sentiment, prediction"
   ]
  },
  {
   "cell_type": "code",
   "execution_count": 7,
   "id": "0841f355",
   "metadata": {},
   "outputs": [
    {
     "name": "stdout",
     "output_type": "stream",
     "text": [
      "\u001b[1m1/1\u001b[0m \u001b[32m━━━━━━━━━━━━━━━━━━━━\u001b[0m\u001b[37m\u001b[0m \u001b[1m1s\u001b[0m 517ms/step\n",
      "Review : This movie was fantastic! The acting was great and the plot was thrilling\n",
      "Sentiment : Positive\n",
      "Prediction Score : 0.5634569525718689\n"
     ]
    }
   ],
   "source": [
    "example_review = \"This movie was fantastic! The acting was great and the plot was thrilling\"\n",
    "sentiment, score = predict_sentiment(example_review)\n",
    "\n",
    "print(f\"Review : {example_review}\")\n",
    "print(f\"Sentiment : {sentiment}\")\n",
    "print(f\"Prediction Score : {score}\")"
   ]
  },
  {
   "cell_type": "code",
   "execution_count": null,
   "id": "1c56adff",
   "metadata": {},
   "outputs": [],
   "source": []
  }
 ],
 "metadata": {
  "kernelspec": {
   "display_name": "base",
   "language": "python",
   "name": "python3"
  },
  "language_info": {
   "codemirror_mode": {
    "name": "ipython",
    "version": 3
   },
   "file_extension": ".py",
   "mimetype": "text/x-python",
   "name": "python",
   "nbconvert_exporter": "python",
   "pygments_lexer": "ipython3",
   "version": "3.12.7"
  }
 },
 "nbformat": 4,
 "nbformat_minor": 5
}
